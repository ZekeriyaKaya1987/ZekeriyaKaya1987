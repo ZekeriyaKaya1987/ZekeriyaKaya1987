{
  "nbformat": 4,
  "nbformat_minor": 0,
  "metadata": {
    "colab": {
      "name": "Untitled0.ipynb",
      "provenance": [],
      "authorship_tag": "ABX9TyP7e6lA5dCQ1e9xEA54R6sL",
      "include_colab_link": true
    },
    "kernelspec": {
      "name": "python3",
      "display_name": "Python 3"
    },
    "language_info": {
      "name": "python"
    }
  },
  "cells": [
    {
      "cell_type": "markdown",
      "metadata": {
        "id": "view-in-github",
        "colab_type": "text"
      },
      "source": [
        "<a href=\"https://colab.research.google.com/github/ZekeriyaKaya1987/ZekeriyaKaya1987/blob/main/Ko%C5%9FulluOlas%C4%B1l%C4%B1k%C3%96devi.ipynb\" target=\"_parent\"><img src=\"https://colab.research.google.com/assets/colab-badge.svg\" alt=\"Open In Colab\"/></a>"
      ]
    },
    {
      "cell_type": "markdown",
      "metadata": {
        "id": "b2eqmiSOBMD1"
      },
      "source": [
        "Koşullu Olasılık Ödevi:\n",
        "\n",
        "1 ile 20 arasında arkadaşının aklından tuttuğu sayının 8 den büyük olduğu bilindiğine göre, tahmin edilen sayının tek sayı olma olasılığı kaçtır?\n",
        "\n",
        "Örnek uzay : E={1,2,3,4,5,6,7,8,9,10,11,12,13,14,15,16,17,18,19,20}\n",
        "\n",
        "8'den büyük olma olayı: A={9,10,11,12,13,14,15,16,17,18,19,20}\n",
        "\n",
        "Tek sayı olma olayı : B={1,3,5,7,9,11,13,15,17,19}\n",
        "\n",
        "A∩B = {9,11,13,15,17,19}\n",
        "\n",
        "p(B/A) = P(A∩B) / P(A) = 6 / 12 = 0.5"
      ]
    },
    {
      "cell_type": "code",
      "metadata": {
        "colab": {
          "base_uri": "https://localhost:8080/"
        },
        "id": "XOk2RsejBQkd",
        "outputId": "a2abe9de-11f7-4221-8912-d4968296efb8"
      },
      "source": [
        "seçim=[1,2,3,4,5,6,7,8,9,10,11,12,13,14,15,16,17,18,19,20]\n",
        "tek = [1,3,5,7,9,11,13,15,17,19]\n",
        "cift=[2,4,6,8,10,12,14,16,18,20]\n",
        "seçim_alt=[]\n",
        "ktek=set(tek)\n",
        "kcift=set(cift)\n",
        "kseçim=set(seçim)\n",
        "print(\"Tahminin kaçtan büyük olma ihtimali hesaplanacak:\")\n",
        "buyuk= int(input(\"Kaçtan büyük olacak:\"))\n",
        "print(\"Tek/çift gelme olasılığından birini seçiniz\")\n",
        "sec= int(input(\"Tek(1)/Çift(2):\"))\n",
        "def sonuc(secim,alt_kume):\n",
        "   kesisim=len(secim&alt_kume)\n",
        "   return kesisim / len(alt_kume)\n",
        "for i in range(buyuk+1,len(seçim)+1):\n",
        "      seçim_alt.append(i)\n",
        "kseçim_alt = set(seçim_alt)\n",
        "if(sec == 1):\n",
        "  print(sonuc(ktek,kseçim_alt))\n",
        "if(sec == 2):\n",
        "  print(sonuc(kcift,kseçim_alt))"
      ],
      "execution_count": 5,
      "outputs": [
        {
          "output_type": "stream",
          "text": [
            "Tahminin kaçtan büyük olma ihtimali hesaplanacak:\n",
            "Kaçtan büyük olacak:8\n",
            "Tek/çift gelme olasılığından birini seçiniz\n",
            "Tek(1)/Çift(2):1\n",
            "0.5\n"
          ],
          "name": "stdout"
        }
      ]
    }
  ]
}