{
  "nbformat": 4,
  "nbformat_minor": 0,
  "metadata": {
    "colab": {
      "name": "KombinasyonÖdevi.ipynb",
      "provenance": [],
      "authorship_tag": "ABX9TyNMqA5wljfEO0t+A9s2y+Ah",
      "include_colab_link": true
    },
    "kernelspec": {
      "name": "python3",
      "display_name": "Python 3"
    },
    "language_info": {
      "name": "python"
    }
  },
  "cells": [
    {
      "cell_type": "markdown",
      "metadata": {
        "id": "view-in-github",
        "colab_type": "text"
      },
      "source": [
        "<a href=\"https://colab.research.google.com/github/ZekeriyaKaya1987/ZekeriyaKaya1987/blob/main/Kombinasyon%C3%96devi.ipynb\" target=\"_parent\"><img src=\"https://colab.research.google.com/assets/colab-badge.svg\" alt=\"Open In Colab\"/></a>"
      ]
    },
    {
      "cell_type": "markdown",
      "metadata": {
        "id": "wFOv2Bsc_ta3"
      },
      "source": [
        "Kombinasyon Ödevi:\n",
        "\n",
        "10 soruluk bir sınavda öğrencilerden 7 soruya cevap vermeleri isteniyor.\n",
        "\n",
        "Sınava giren bir öğrenci kaç farklı seçim yapabilir ?"
      ]
    },
    {
      "cell_type": "code",
      "metadata": {
        "colab": {
          "base_uri": "https://localhost:8080/"
        },
        "id": "swT3swvc_z47",
        "outputId": "e2f8134f-36c2-410c-a1d4-6e71c2c41793"
      },
      "source": [
        "\n",
        "from math import factorial\n",
        "n=int(input(\"C(n,r) kombinasyonu için n sayısını giriniz:\"))\n",
        "r=int(input(\"C(n,r) kombinasyonu için r sayısını giriniz:\"))\n",
        "kombinasyon=int(factorial(n)/(factorial(n-r)*factorial(r)))\n",
        "print(\"C(\",n,\",\",r,\") =\",kombinasyon)"
      ],
      "execution_count": 5,
      "outputs": [
        {
          "output_type": "stream",
          "text": [
            "C(n,r) kombinasyonu için n sayısını giriniz:10\n",
            "C(n,r) kombinasyonu için r sayısını giriniz:7\n",
            "C( 10 , 7 ) = 120\n"
          ],
          "name": "stdout"
        }
      ]
    }
  ]
}