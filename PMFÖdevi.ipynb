{
  "nbformat": 4,
  "nbformat_minor": 0,
  "metadata": {
    "colab": {
      "name": "Untitled1.ipynb",
      "provenance": [],
      "authorship_tag": "ABX9TyNy/fNLFq8Kv60LvktvptwS",
      "include_colab_link": true
    },
    "kernelspec": {
      "name": "python3",
      "display_name": "Python 3"
    },
    "language_info": {
      "name": "python"
    }
  },
  "cells": [
    {
      "cell_type": "markdown",
      "metadata": {
        "id": "view-in-github",
        "colab_type": "text"
      },
      "source": [
        "<a href=\"https://colab.research.google.com/github/ZekeriyaKaya1987/ZekeriyaKaya1987/blob/main/PMF%C3%96devi.ipynb\" target=\"_parent\"><img src=\"https://colab.research.google.com/assets/colab-badge.svg\" alt=\"Open In Colab\"/></a>"
      ]
    },
    {
      "cell_type": "markdown",
      "metadata": {
        "id": "AnIT6XeTPGsp"
      },
      "source": [
        "Ahmet her 10 basket atışta ortalama 3 isabet yapıyor. \n",
        "\n",
        "Önümüzdeki 5 kez basket atışında tam olarak 2 isabet alma olasılığı nedir? \n",
        "\n",
        "Formül şu olduğundan:\n",
        "\n",
        "f(k;u)=P(X=k)= (e^-u *u^k)/ k!\n",
        "\n",
        "burada k= 5 denemede 2 isabet\n",
        "\n",
        "u= 10 denemede 3 isabet = 1,5 isabet n 5 deneme\n",
        "\n",
        "P(X =2)= e^-1.5*1.5^2/2! =0,2510\n"
      ]
    },
    {
      "cell_type": "code",
      "metadata": {
        "colab": {
          "base_uri": "https://localhost:8080/",
          "height": 285
        },
        "id": "fmnPQIvzP7T0",
        "outputId": "ea57c911-40f3-4559-c833-69a1ed61948b"
      },
      "source": [
        "from scipy.stats import poisson\n",
        "import matplotlib.pyplot as plt\n",
        "#Calculate a few first moments:\n",
        "mu = 1.5\n",
        "mean, var, skew, kurt = poisson.stats(mu, moments='mvsk')\n",
        "print('Mean=%.3f,Variance=%.3f'%(mean,var) )\n",
        "Mean=1.500\n",
        "Variance=1.500\n",
        "#pmf(x, mu, loc=0)\tProbability mass function.\n",
        "#Use the Probability mass function to calculate P(X=2)\n",
        "p= poisson.pmf(2,1.5)\n",
        "p\n",
        "\n",
        "import numpy as np\n",
        "fig, ax = plt.subplots(1, 1)\n",
        "x = np.arange(0,5)\n",
        "mu = 1.5\n",
        "ax.plot(x, poisson.pmf(x, mu), 'bo', ms=8, label='poisson pmf')\n",
        "ax.vlines(x, 0, poisson.pmf(x, mu), colors='b', lw=5, alpha=0.5)\n",
        "plt.show()\n",
        "#Freeze the distribution and display the frozen pmf:\n",
        "rv = poisson(mu)\n",
        "ax.vlines(x, 0, rv.pmf(x), colors='k', linestyles='-', lw=1,\n",
        "         label='frozen pmf')\n",
        "ax.legend(loc='best', frameon=False)\n",
        "plt.show()"
      ],
      "execution_count": 9,
      "outputs": [
        {
          "output_type": "stream",
          "text": [
            "Mean=1.500,Variance=1.500\n"
          ],
          "name": "stdout"
        },
        {
          "output_type": "display_data",
          "data": {
            "image/png": "[encoded data removed]",
            "text/plain": [
              "<Figure size 432x288 with 1 Axes>"
            ]
          },
          "metadata": {
            "tags": [],
            "needs_background": "light"
          }
        }
      ]
    }
  ]
}