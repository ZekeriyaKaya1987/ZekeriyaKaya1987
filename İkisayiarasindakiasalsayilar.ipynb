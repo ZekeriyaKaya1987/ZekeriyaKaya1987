{
  "nbformat": 4,
  "nbformat_minor": 0,
  "metadata": {
    "colab": {
      "name": "İkisayiarasindakiasalsayilar.ipynb",
      "provenance": [],
      "authorship_tag": "ABX9TyN1+NoeNsbmzzVGpmCLo5KZ",
      "include_colab_link": true
    },
    "kernelspec": {
      "name": "python3",
      "display_name": "Python 3"
    },
    "language_info": {
      "name": "python"
    }
  },
  "cells": [
    {
      "cell_type": "markdown",
      "metadata": {
        "id": "view-in-github",
        "colab_type": "text"
      },
      "source": [
        "<a href=\"https://colab.research.google.com/github/ZekeriyaKaya1987/ZekeriyaKaya1987/blob/main/%C4%B0kisayiarasindakiasalsayilar.ipynb\" target=\"_parent\"><img src=\"https://colab.research.google.com/assets/colab-badge.svg\" alt=\"Open In Colab\"/></a>"
      ]
    },
    {
      "cell_type": "code",
      "metadata": {
        "colab": {
          "base_uri": "https://localhost:8080/"
        },
        "id": "KOfQrpgYTQPG",
        "outputId": "840b6c99-15dd-4c96-e8fa-63cef27b4151"
      },
      "source": [
        "sayi1 = int(input(\"İlk Sayıyı Giriniz: \"))\n",
        "\n",
        "sayi2 = int(input(\"İkinci Sayıyı Giriniz: \"))\n",
        " \n",
        "print(\"nİki sayı arasında bulunan asal sayılar: \")\n",
        " \n",
        "for i in range(sayi1,sayi2 + 1):\n",
        "   if i > 1:\n",
        "       for k in range(2,i):\n",
        "           if (i % k) == 0:\n",
        "               break\n",
        "       else:\n",
        "           print(i)"
      ],
      "execution_count": 1,
      "outputs": [
        {
          "output_type": "stream",
          "text": [
            "İlk Sayıyı Giriniz: 7\n",
            "İkinci Sayıyı Giriniz: 21\n",
            "nİki sayı arasında bulunan asal sayılar: \n",
            "7\n",
            "11\n",
            "13\n",
            "17\n",
            "19\n"
          ],
          "name": "stdout"
        }
      ]
    }
  ]
}