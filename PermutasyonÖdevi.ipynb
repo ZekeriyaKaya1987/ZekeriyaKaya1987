{
  "nbformat": 4,
  "nbformat_minor": 0,
  "metadata": {
    "colab": {
      "name": "Permutasyon.ipynb",
      "provenance": [],
      "authorship_tag": "ABX9TyNWRVX2qjmQFcGYCxUuIyOb",
      "include_colab_link": true
    },
    "kernelspec": {
      "name": "python3",
      "display_name": "Python 3"
    },
    "language_info": {
      "name": "python"
    }
  },
  "cells": [
    {
      "cell_type": "markdown",
      "metadata": {
        "id": "view-in-github",
        "colab_type": "text"
      },
      "source": [
        "<a href=\"https://colab.research.google.com/github/ZekeriyaKaya1987/ZekeriyaKaya1987/blob/main/Permutasyon%C3%96devi.ipynb\" target=\"_parent\"><img src=\"https://colab.research.google.com/assets/colab-badge.svg\" alt=\"Open In Colab\"/></a>"
      ]
    },
    {
      "cell_type": "markdown",
      "metadata": {
        "id": "yWQzKz0OGPTq"
      },
      "source": [
        ""
      ]
    },
    {
      "cell_type": "markdown",
      "metadata": {
        "id": "3hCKf6o-ntO0"
      },
      "source": [
        "Ödev: Permütasyon\n",
        "\n",
        "10 kişi 3 koltuğa kaç farklı şekilde oturabilir?\n",
        "\n",
        "Çözüm:\n",
        "\n",
        "Burada sıralama önemli olduğu için permütasyon çözümü kullanılmalıdır. \n",
        "\n",
        "\n",
        "İlk koltuğa 10 kişi, ikinci koltuğa 9 kişi, üçüncü koltuğa 8 kişi oturabilir.\n",
        "\n",
        "Tüm durum 10! olup istenmeyen durumlar (10-3)! 'dir. \n",
        "Sonuç= P(n,x)=n!/(n-x)!=10!/(10-3)!=720"
      ]
    },
    {
      "cell_type": "code",
      "metadata": {
        "colab": {
          "base_uri": "https://localhost:8080/"
        },
        "id": "cJZKUhrSGPr5",
        "outputId": "08994da5-40b5-41c5-b1c6-503cc9d5335b"
      },
      "source": [
        "def faktoriyelHesapla(i):\n",
        "    if i == 1:\n",
        "        return 1\n",
        "    else:\n",
        "        return i * faktoriyelHesapla(i - 1)\n",
        "\n",
        "def permutasyonHesapla(j, k):\n",
        "    l = 0\n",
        "    if k > j:\n",
        "        l = l\n",
        "    else:\n",
        "        l = faktoriyelHesapla(j) / faktoriyelHesapla(j - k)\n",
        "        return l\n",
        "\n",
        "print(\"Permütasyon hesabı için lütfen sayıları giriniz.\")\n",
        "\n",
        "sayi1 = int(input(\"İnsan sayısını giriniz: \"))\n",
        "sayi2 = int(input(\"Koltuk sayısını giriniz: \"))\n",
        "print(\"\\n Sonuç:\", permutasyonHesapla(sayi1, sayi2))"
      ],
      "execution_count": 1,
      "outputs": [
        {
          "output_type": "stream",
          "text": [
            "Permütasyon hesabı için lütfen sayıları giriniz.\n",
            "İnsan sayısını giriniz: 10\n",
            "Koltuk sayısını giriniz: 3\n",
            "\n",
            " Sonuç: 720.0\n"
          ],
          "name": "stdout"
        }
      ]
    }
  ]
}