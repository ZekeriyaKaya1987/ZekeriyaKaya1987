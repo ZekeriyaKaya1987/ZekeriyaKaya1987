{
  "nbformat": 4,
  "nbformat_minor": 0,
  "metadata": {
    "colab": {
      "name": "Permutasyon.ipynb",
      "provenance": [],
      "authorship_tag": "ABX9TyO4MBsdpJbIgP4dNcdP4jUw",
      "include_colab_link": true
    },
    "kernelspec": {
      "name": "python3",
      "display_name": "Python 3"
    },
    "language_info": {
      "name": "python"
    }
  },
  "cells": [
    {
      "cell_type": "markdown",
      "metadata": {
        "id": "view-in-github",
        "colab_type": "text"
      },
      "source": [
        "<a href=\"https://colab.research.google.com/github/ZekeriyaKaya1987/ZekeriyaKaya1987/blob/main/Permutasyon.ipynb\" target=\"_parent\"><img src=\"https://colab.research.google.com/assets/colab-badge.svg\" alt=\"Open In Colab\"/></a>"
      ]
    },
    {
      "cell_type": "markdown",
      "metadata": {
        "id": "yWQzKz0OGPTq"
      },
      "source": [
        ""
      ]
    },
    {
      "cell_type": "markdown",
      "metadata": {
        "id": "3hCKf6o-ntO0"
      },
      "source": [
        "İki sayının permütasyon hesabını yapmak için ilgili Pyhton yazılımı aşağıdaki olup sonuç için sağlama yapar isek;\n",
        "P(n,r)=n!/(n-r)!\n",
        "P(15,5)=15!/(15-5)!\n",
        "P(15,5)=15!/10!\n",
        "P(15,5)=(15.14.13.12.11.10!)/10!\n",
        "P(15,5)=15.14.13.12.11\n",
        "P(15,5)=360360"
      ]
    },
    {
      "cell_type": "code",
      "metadata": {
        "colab": {
          "base_uri": "https://localhost:8080/"
        },
        "id": "cJZKUhrSGPr5",
        "outputId": "4d7e2a55-5bc1-4a39-9f64-42a01682967a"
      },
      "source": [
        "def faktoriyelHesapla(i):\n",
        "    \n",
        "    if i==1:       \n",
        "        return 1\n",
        "    \n",
        "    else: \n",
        "        return i * faktoriyelHesapla(i-1)\n",
        "    \n",
        "def permutasyonHesapla(j,k):\n",
        "    \n",
        "    l = 0\n",
        "    \n",
        "    if k>j:        \n",
        "        l = l\n",
        "        \n",
        "    else:      \n",
        "        l = faktoriyelHesapla(j)/faktoriyelHesapla(j-k)\n",
        "        return l\n",
        "    \n",
        "print(\"Permütasyon hesabı için lütfen sayıları giriniz. (1. sayı, 2. sayıdan büyük olmalı!)\")   \n",
        "\n",
        "sayi1 = int(input(\"1. Sayı Giriniz: \"))\n",
        "\n",
        "sayi2 = int(input(\"2. Sayı Giriniz: \")) \n",
        "\n",
        "print(\"Sonuç:\", permutasyonHesapla(sayi1,sayi2) )"
      ],
      "execution_count": 10,
      "outputs": [
        {
          "output_type": "stream",
          "text": [
            "Permütasyon hesabı için lütfen sayıları giriniz. (1. sayı, 2. sayıdan büyük olmalı!)\n",
            "1. Sayı Giriniz: 15\n",
            "2. Sayı Giriniz: 5\n",
            "Sonuç: 360360.0\n"
          ],
          "name": "stdout"
        }
      ]
    }
  ]
}