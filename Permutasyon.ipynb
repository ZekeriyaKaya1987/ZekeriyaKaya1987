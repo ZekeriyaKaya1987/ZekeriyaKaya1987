{
  "nbformat": 4,
  "nbformat_minor": 0,
  "metadata": {
    "colab": {
      "name": "Permutasyon.ipynb",
      "provenance": [],
      "authorship_tag": "ABX9TyMcftCOcVR2Xu2RKLOioWx9",
      "include_colab_link": true
    },
    "kernelspec": {
      "name": "python3",
      "display_name": "Python 3"
    },
    "language_info": {
      "name": "python"
    }
  },
  "cells": [
    {
      "cell_type": "markdown",
      "metadata": {
        "id": "view-in-github",
        "colab_type": "text"
      },
      "source": [
        "<a href=\"https://colab.research.google.com/github/ZekeriyaKaya1987/ZekeriyaKaya1987/blob/main/Permutasyon.ipynb\" target=\"_parent\"><img src=\"https://colab.research.google.com/assets/colab-badge.svg\" alt=\"Open In Colab\"/></a>"
      ]
    },
    {
      "cell_type": "markdown",
      "metadata": {
        "id": "yWQzKz0OGPTq"
      },
      "source": [
        ""
      ]
    },
    {
      "cell_type": "code",
      "metadata": {
        "colab": {
          "base_uri": "https://localhost:8080/"
        },
        "id": "cJZKUhrSGPr5",
        "outputId": "8c364f19-0754-42fb-f395-2e0977c4d2cd"
      },
      "source": [
        "def faktoriyelHesapla(i):\n",
        "    \n",
        "    if i==1:       \n",
        "        return 1\n",
        "    \n",
        "    else: \n",
        "        return i * faktoriyelHesapla(i-1)\n",
        "    \n",
        "def permutasyonHesapla(j,k):\n",
        "    \n",
        "    l = 0\n",
        "    \n",
        "    if k>j:        \n",
        "        l = l\n",
        "        \n",
        "    else:      \n",
        "        l = faktoriyelHesapla(j)/faktoriyelHesapla(j-k)\n",
        "        return l\n",
        "    \n",
        "print(\"Permütasyon hesabı için lütfen sayıları giriniz. (1. sayı, 2. sayıdan büyük olmalı!)\")   \n",
        "\n",
        "sayi1 = int(input(\"Lütfen 1. Sayıyı Giriniz: \"))\n",
        "\n",
        "sayi2 = int(input(\"Lütfen 2. Sayıyı Giriniz: \")) \n",
        "\n",
        "print(\"Sonuç:\", permutasyonHesapla(sayi1,sayi2) )"
      ],
      "execution_count": 17,
      "outputs": [
        {
          "output_type": "stream",
          "text": [
            "Permütasyon hesabı için lütfen sayıları giriniz. (1. sayı, 2. sayıdan büyük olmalı!)\n",
            "Lütfen 1. Sayıyı Giriniz: 15\n",
            "Lütfen 2. Sayıyı Giriniz: 5\n",
            "Sonuç: 360360.0\n"
          ],
          "name": "stdout"
        }
      ]
    }
  ]
}